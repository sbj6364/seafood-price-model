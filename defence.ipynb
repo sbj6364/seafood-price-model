{
 "cells": [
  {
   "cell_type": "code",
   "execution_count": 1,
   "id": "df47e46e",
   "metadata": {
    "_cell_guid": "b1076dfc-b9ad-4769-8c92-a6c4dae69d19",
    "_uuid": "8f2839f25d086af736a60e9eeb907d3b93b6e0e5",
    "execution": {
     "iopub.execute_input": "2021-11-21T11:21:29.126187Z",
     "iopub.status.busy": "2021-11-21T11:21:29.125368Z",
     "iopub.status.idle": "2021-11-21T11:21:29.131396Z",
     "shell.execute_reply": "2021-11-21T11:21:29.130859Z",
     "shell.execute_reply.started": "2021-11-21T11:09:48.776929Z"
    },
    "papermill": {
     "duration": 0.039501,
     "end_time": "2021-11-21T11:21:29.131528",
     "exception": false,
     "start_time": "2021-11-21T11:21:29.092027",
     "status": "completed"
    },
    "tags": []
   },
   "outputs": [
    {
     "name": "stdout",
     "output_type": "stream",
     "text": [
      "/kaggle/input/19981126-tp/X_test.csv\n",
      "/kaggle/input/19981126-tp/y_train.csv\n",
      "/kaggle/input/19981126-tp/X_train.csv\n",
      "/kaggle/input/19981126-tp/submit_sample.csv\n"
     ]
    }
   ],
   "source": [
    "# This Python 3 environment comes with many helpful analytics libraries installed\n",
    "# It is defined by the kaggle/python Docker image: https://github.com/kaggle/docker-python\n",
    "# For example, here's several helpful packages to load\n",
    "\n",
    "import numpy as np # linear algebra\n",
    "import pandas as pd # data processing, CSV file I/O (e.g. pd.read_csv)\n",
    "\n",
    "# Input data files are available in the read-only \"../input/\" directory\n",
    "# For example, running this (by clicking run or pressing Shift+Enter) will list all files under the input directory\n",
    "\n",
    "import os\n",
    "for dirname, _, filenames in os.walk('/kaggle/input'):\n",
    "    for filename in filenames:\n",
    "        print(os.path.join(dirname, filename))\n",
    "\n",
    "# You can write up to 20GB to the current directory (/kaggle/working/) that gets preserved as output when you create a version using \"Save & Run All\" \n",
    "# You can also write temporary files to /kaggle/temp/, but they won't be saved outside of the current session"
   ]
  },
  {
   "cell_type": "code",
   "execution_count": 2,
   "id": "b587aea9",
   "metadata": {
    "execution": {
     "iopub.execute_input": "2021-11-21T11:21:29.171931Z",
     "iopub.status.busy": "2021-11-21T11:21:29.171374Z",
     "iopub.status.idle": "2021-11-21T11:21:30.512645Z",
     "shell.execute_reply": "2021-11-21T11:21:30.513085Z",
     "shell.execute_reply.started": "2021-11-21T11:09:48.802052Z"
    },
    "papermill": {
     "duration": 1.363085,
     "end_time": "2021-11-21T11:21:30.513238",
     "exception": false,
     "start_time": "2021-11-21T11:21:29.150153",
     "status": "completed"
    },
    "tags": []
   },
   "outputs": [
    {
     "data": {
      "text/plain": [
       "'cuda'"
      ]
     },
     "execution_count": 2,
     "metadata": {},
     "output_type": "execute_result"
    }
   ],
   "source": [
    "# torch library import\n",
    "import torch\n",
    "import torch.optim as optim\n",
    "import torch.nn as nn\n",
    "\n",
    "\n",
    "# GPU usage\n",
    "device = \"cuda\" if torch.cuda.is_available() else \"cpu\"\n",
    "device"
   ]
  },
  {
   "cell_type": "code",
   "execution_count": 3,
   "id": "db35460d",
   "metadata": {
    "execution": {
     "iopub.execute_input": "2021-11-21T11:21:30.554680Z",
     "iopub.status.busy": "2021-11-21T11:21:30.554170Z",
     "iopub.status.idle": "2021-11-21T11:21:30.666357Z",
     "shell.execute_reply": "2021-11-21T11:21:30.665867Z",
     "shell.execute_reply.started": "2021-11-21T11:10:56.385082Z"
    },
    "papermill": {
     "duration": 0.134767,
     "end_time": "2021-11-21T11:21:30.666474",
     "exception": false,
     "start_time": "2021-11-21T11:21:30.531707",
     "status": "completed"
    },
    "tags": []
   },
   "outputs": [
    {
     "data": {
      "text/html": [
       "<div>\n",
       "<style scoped>\n",
       "    .dataframe tbody tr th:only-of-type {\n",
       "        vertical-align: middle;\n",
       "    }\n",
       "\n",
       "    .dataframe tbody tr th {\n",
       "        vertical-align: top;\n",
       "    }\n",
       "\n",
       "    .dataframe thead th {\n",
       "        text-align: right;\n",
       "    }\n",
       "</style>\n",
       "<table border=\"1\" class=\"dataframe\">\n",
       "  <thead>\n",
       "    <tr style=\"text-align: right;\">\n",
       "      <th></th>\n",
       "      <th>지점</th>\n",
       "      <th>일시</th>\n",
       "      <th>평균 풍속(m/s)</th>\n",
       "      <th>평균기압(hPa)</th>\n",
       "      <th>평균 상대습도(%)</th>\n",
       "      <th>평균 기온(°C)</th>\n",
       "      <th>평균 수온(°C)</th>\n",
       "      <th>평균 최대 파고(m)</th>\n",
       "      <th>평균 유의 파고(m)</th>\n",
       "      <th>최고 유의 파고(m)</th>\n",
       "      <th>최고 최대 파고(m)</th>\n",
       "      <th>평균 파주기(sec)</th>\n",
       "      <th>최고 파주기(sec)</th>\n",
       "      <th>시도명</th>\n",
       "    </tr>\n",
       "  </thead>\n",
       "  <tbody>\n",
       "    <tr>\n",
       "      <th>0</th>\n",
       "      <td>22190</td>\n",
       "      <td>2021-05-04</td>\n",
       "      <td>NaN</td>\n",
       "      <td>1010.8</td>\n",
       "      <td>NaN</td>\n",
       "      <td>NaN</td>\n",
       "      <td>16.0</td>\n",
       "      <td>2.6</td>\n",
       "      <td>1.6</td>\n",
       "      <td>2.2</td>\n",
       "      <td>4.0</td>\n",
       "      <td>6.3</td>\n",
       "      <td>9.1</td>\n",
       "      <td>광주</td>\n",
       "    </tr>\n",
       "    <tr>\n",
       "      <th>1</th>\n",
       "      <td>22189</td>\n",
       "      <td>2021-03-10</td>\n",
       "      <td>7.6</td>\n",
       "      <td>1028.3</td>\n",
       "      <td>59.0</td>\n",
       "      <td>11.3</td>\n",
       "      <td>15.3</td>\n",
       "      <td>2.2</td>\n",
       "      <td>1.4</td>\n",
       "      <td>2.0</td>\n",
       "      <td>3.3</td>\n",
       "      <td>5.5</td>\n",
       "      <td>9.1</td>\n",
       "      <td>부산</td>\n",
       "    </tr>\n",
       "    <tr>\n",
       "      <th>2</th>\n",
       "      <td>22105</td>\n",
       "      <td>2021-08-12</td>\n",
       "      <td>2.0</td>\n",
       "      <td>1010.8</td>\n",
       "      <td>82.0</td>\n",
       "      <td>27.4</td>\n",
       "      <td>27.1</td>\n",
       "      <td>2.9</td>\n",
       "      <td>1.8</td>\n",
       "      <td>2.3</td>\n",
       "      <td>3.9</td>\n",
       "      <td>9.2</td>\n",
       "      <td>10.7</td>\n",
       "      <td>대구</td>\n",
       "    </tr>\n",
       "    <tr>\n",
       "      <th>3</th>\n",
       "      <td>22105</td>\n",
       "      <td>2021-02-02</td>\n",
       "      <td>10.8</td>\n",
       "      <td>1018.3</td>\n",
       "      <td>43.0</td>\n",
       "      <td>2.6</td>\n",
       "      <td>13.3</td>\n",
       "      <td>4.6</td>\n",
       "      <td>2.8</td>\n",
       "      <td>3.6</td>\n",
       "      <td>6.0</td>\n",
       "      <td>7.9</td>\n",
       "      <td>10.7</td>\n",
       "      <td>세종</td>\n",
       "    </tr>\n",
       "    <tr>\n",
       "      <th>4</th>\n",
       "      <td>22105</td>\n",
       "      <td>2021-06-16</td>\n",
       "      <td>7.0</td>\n",
       "      <td>1008.1</td>\n",
       "      <td>86.0</td>\n",
       "      <td>21.0</td>\n",
       "      <td>20.2</td>\n",
       "      <td>1.9</td>\n",
       "      <td>1.1</td>\n",
       "      <td>1.4</td>\n",
       "      <td>2.4</td>\n",
       "      <td>5.1</td>\n",
       "      <td>5.8</td>\n",
       "      <td>서울</td>\n",
       "    </tr>\n",
       "  </tbody>\n",
       "</table>\n",
       "</div>"
      ],
      "text/plain": [
       "      지점          일시  평균 풍속(m/s)  평균기압(hPa)  평균 상대습도(%)  평균 기온(°C)  평균 수온(°C)  \\\n",
       "0  22190  2021-05-04         NaN     1010.8         NaN        NaN       16.0   \n",
       "1  22189  2021-03-10         7.6     1028.3        59.0       11.3       15.3   \n",
       "2  22105  2021-08-12         2.0     1010.8        82.0       27.4       27.1   \n",
       "3  22105  2021-02-02        10.8     1018.3        43.0        2.6       13.3   \n",
       "4  22105  2021-06-16         7.0     1008.1        86.0       21.0       20.2   \n",
       "\n",
       "   평균 최대 파고(m)  평균 유의 파고(m)  최고 유의 파고(m)  최고 최대 파고(m)  평균 파주기(sec)  \\\n",
       "0          2.6          1.6          2.2          4.0          6.3   \n",
       "1          2.2          1.4          2.0          3.3          5.5   \n",
       "2          2.9          1.8          2.3          3.9          9.2   \n",
       "3          4.6          2.8          3.6          6.0          7.9   \n",
       "4          1.9          1.1          1.4          2.4          5.1   \n",
       "\n",
       "   최고 파주기(sec) 시도명  \n",
       "0          9.1  광주  \n",
       "1          9.1  부산  \n",
       "2         10.7  대구  \n",
       "3         10.7  세종  \n",
       "4          5.8  서울  "
      ]
     },
     "execution_count": 3,
     "metadata": {},
     "output_type": "execute_result"
    }
   ],
   "source": [
    "# data loading\n",
    "x_train = pd.read_csv(\"/kaggle/input/19981126-tp/X_train.csv\")\n",
    "y_train = pd.read_csv(\"/kaggle/input/19981126-tp/y_train.csv\")\n",
    "x_test = pd.read_csv(\"/kaggle/input/19981126-tp/X_test.csv\")\n",
    "submit = pd.read_csv(\"/kaggle/input/19981126-tp/submit_sample.csv\")\n",
    "\n",
    "# insight\n",
    "x_train.head()"
   ]
  },
  {
   "cell_type": "code",
   "execution_count": 4,
   "id": "2d583a51",
   "metadata": {
    "execution": {
     "iopub.execute_input": "2021-11-21T11:21:30.714164Z",
     "iopub.status.busy": "2021-11-21T11:21:30.710501Z",
     "iopub.status.idle": "2021-11-21T11:21:30.815567Z",
     "shell.execute_reply": "2021-11-21T11:21:30.816178Z",
     "shell.execute_reply.started": "2021-11-21T11:11:02.656495Z"
    },
    "papermill": {
     "duration": 0.130887,
     "end_time": "2021-11-21T11:21:30.816379",
     "exception": false,
     "start_time": "2021-11-21T11:21:30.685492",
     "status": "completed"
    },
    "tags": []
   },
   "outputs": [
    {
     "name": "stdout",
     "output_type": "stream",
     "text": [
      "<class 'pandas.core.frame.DataFrame'>\n",
      "RangeIndex: 12777 entries, 0 to 12776\n",
      "Data columns (total 14 columns):\n",
      " #   Column       Non-Null Count  Dtype  \n",
      "---  ------       --------------  -----  \n",
      " 0   지점           12777 non-null  int64  \n",
      " 1   일시           12777 non-null  object \n",
      " 2   평균 풍속(m/s)   11341 non-null  float64\n",
      " 3   평균기압(hPa)    12731 non-null  float64\n",
      " 4   평균 상대습도(%)   12179 non-null  float64\n",
      " 5   평균 기온(°C)    12285 non-null  float64\n",
      " 6   평균 수온(°C)    12388 non-null  float64\n",
      " 7   평균 최대 파고(m)  12661 non-null  float64\n",
      " 8   평균 유의 파고(m)  12528 non-null  float64\n",
      " 9   최고 유의 파고(m)  12754 non-null  float64\n",
      " 10  최고 최대 파고(m)  12754 non-null  float64\n",
      " 11  평균 파주기(sec)  12665 non-null  float64\n",
      " 12  최고 파주기(sec)  12753 non-null  float64\n",
      " 13  시도명          12777 non-null  object \n",
      "dtypes: float64(11), int64(1), object(2)\n",
      "memory usage: 1.4+ MB\n"
     ]
    }
   ],
   "source": [
    "# check nulls, dtypes\n",
    "x_train.info()"
   ]
  },
  {
   "cell_type": "code",
   "execution_count": 5,
   "id": "be8564a2",
   "metadata": {
    "execution": {
     "iopub.execute_input": "2021-11-21T11:21:30.863850Z",
     "iopub.status.busy": "2021-11-21T11:21:30.863185Z",
     "iopub.status.idle": "2021-11-21T11:21:30.865885Z",
     "shell.execute_reply": "2021-11-21T11:21:30.866387Z",
     "shell.execute_reply.started": "2021-11-21T11:11:19.339218Z"
    },
    "papermill": {
     "duration": 0.028658,
     "end_time": "2021-11-21T11:21:30.866517",
     "exception": false,
     "start_time": "2021-11-21T11:21:30.837859",
     "status": "completed"
    },
    "tags": []
   },
   "outputs": [
    {
     "data": {
      "text/plain": [
       "array(['광주', '부산', '대구', '세종', '서울', '울산', '경기', '대전', '전남', '인천', '강원',\n",
       "       '전북', '충북'], dtype=object)"
      ]
     },
     "execution_count": 5,
     "metadata": {},
     "output_type": "execute_result"
    }
   ],
   "source": [
    "x_train['시도명'].unique()"
   ]
  },
  {
   "cell_type": "code",
   "execution_count": 6,
   "id": "13122bea",
   "metadata": {
    "execution": {
     "iopub.execute_input": "2021-11-21T11:21:30.911130Z",
     "iopub.status.busy": "2021-11-21T11:21:30.910563Z",
     "iopub.status.idle": "2021-11-21T11:21:31.716578Z",
     "shell.execute_reply": "2021-11-21T11:21:31.717206Z",
     "shell.execute_reply.started": "2021-11-21T11:11:27.382617Z"
    },
    "papermill": {
     "duration": 0.831532,
     "end_time": "2021-11-21T11:21:31.717524",
     "exception": false,
     "start_time": "2021-11-21T11:21:30.885992",
     "status": "completed"
    },
    "tags": []
   },
   "outputs": [
    {
     "data": {
      "text/plain": [
       "array([ 2,  3,  5,  4,  1, 10,  6,  7,  0,  8,  9, 12, 11])"
      ]
     },
     "execution_count": 6,
     "metadata": {},
     "output_type": "execute_result"
    }
   ],
   "source": [
    "# object label preprocessing\n",
    "from sklearn.preprocessing import LabelEncoder\n",
    "le = LabelEncoder()\n",
    "\n",
    "cities = pd.concat([x_train['시도명'], x_test['시도명']], axis = 0)\n",
    "le.fit(cities)\n",
    "\n",
    "x_train['시도명'] = le.transform(x_train['시도명'])\n",
    "x_test['시도명'] = le.transform(x_test['시도명'])\n",
    "\n",
    "x_test['시도명'].unique()"
   ]
  },
  {
   "cell_type": "code",
   "execution_count": 7,
   "id": "1797133c",
   "metadata": {
    "execution": {
     "iopub.execute_input": "2021-11-21T11:21:31.800686Z",
     "iopub.status.busy": "2021-11-21T11:21:31.799729Z",
     "iopub.status.idle": "2021-11-21T11:21:31.804408Z",
     "shell.execute_reply": "2021-11-21T11:21:31.804899Z",
     "shell.execute_reply.started": "2021-11-21T11:12:09.835265Z"
    },
    "papermill": {
     "duration": 0.051192,
     "end_time": "2021-11-21T11:21:31.805026",
     "exception": false,
     "start_time": "2021-11-21T11:21:31.753834",
     "status": "completed"
    },
    "tags": []
   },
   "outputs": [],
   "source": [
    "# drop column\n",
    "# 일반적으로 최대파고=1.61×유의파고의 관계가 있다.\n",
    "x_train = x_train.drop([\"최고 유의 파고(m)\"], axis = 1)\n",
    "x_test = x_test.drop([\"최고 유의 파고(m)\"], axis = 1)"
   ]
  },
  {
   "cell_type": "code",
   "execution_count": 8,
   "id": "6eb30497",
   "metadata": {
    "execution": {
     "iopub.execute_input": "2021-11-21T11:21:31.875107Z",
     "iopub.status.busy": "2021-11-21T11:21:31.874404Z",
     "iopub.status.idle": "2021-11-21T11:21:31.894672Z",
     "shell.execute_reply": "2021-11-21T11:21:31.894091Z",
     "shell.execute_reply.started": "2021-11-21T11:12:11.265668Z"
    },
    "papermill": {
     "duration": 0.056251,
     "end_time": "2021-11-21T11:21:31.894810",
     "exception": false,
     "start_time": "2021-11-21T11:21:31.838559",
     "status": "completed"
    },
    "tags": []
   },
   "outputs": [
    {
     "name": "stdout",
     "output_type": "stream",
     "text": [
      "<class 'pandas.core.frame.DataFrame'>\n",
      "RangeIndex: 12777 entries, 0 to 12776\n",
      "Data columns (total 13 columns):\n",
      " #   Column       Non-Null Count  Dtype  \n",
      "---  ------       --------------  -----  \n",
      " 0   지점           12777 non-null  int64  \n",
      " 1   일시           12777 non-null  object \n",
      " 2   평균 풍속(m/s)   11341 non-null  float64\n",
      " 3   평균기압(hPa)    12731 non-null  float64\n",
      " 4   평균 상대습도(%)   12179 non-null  float64\n",
      " 5   평균 기온(°C)    12285 non-null  float64\n",
      " 6   평균 수온(°C)    12388 non-null  float64\n",
      " 7   평균 최대 파고(m)  12661 non-null  float64\n",
      " 8   평균 유의 파고(m)  12528 non-null  float64\n",
      " 9   최고 최대 파고(m)  12754 non-null  float64\n",
      " 10  평균 파주기(sec)  12665 non-null  float64\n",
      " 11  최고 파주기(sec)  12753 non-null  float64\n",
      " 12  시도명          12777 non-null  int64  \n",
      "dtypes: float64(10), int64(2), object(1)\n",
      "memory usage: 1.3+ MB\n"
     ]
    }
   ],
   "source": [
    "# check nulls, dtypes\n",
    "x_train.info()"
   ]
  },
  {
   "cell_type": "code",
   "execution_count": 9,
   "id": "2b13a29e",
   "metadata": {
    "execution": {
     "iopub.execute_input": "2021-11-21T11:21:31.953004Z",
     "iopub.status.busy": "2021-11-21T11:21:31.952469Z",
     "iopub.status.idle": "2021-11-21T11:21:31.962208Z",
     "shell.execute_reply": "2021-11-21T11:21:31.962640Z",
     "shell.execute_reply.started": "2021-11-21T11:12:17.028006Z"
    },
    "papermill": {
     "duration": 0.035429,
     "end_time": "2021-11-21T11:21:31.962768",
     "exception": false,
     "start_time": "2021-11-21T11:21:31.927339",
     "status": "completed"
    },
    "tags": []
   },
   "outputs": [],
   "source": [
    "# nan value preprocessing\n",
    "nan_columns = ['평균 풍속(m/s)', '평균기압(hPa)',\n",
    "               '평균 상대습도(%)', '평균 기온(°C)',\n",
    "               '평균 수온(°C)', '평균 최대 파고(m)',\n",
    "               '평균 유의 파고(m)', '최고 최대 파고(m)',\n",
    "               '평균 파주기(sec)', '최고 파주기(sec)']\n",
    "\n",
    "for col in nan_columns:\n",
    "    x_train[col] = x_train[col].fillna(x_train[col].mean())\n",
    "    x_test[col] = x_test[col].fillna(x_test[col].mean())"
   ]
  },
  {
   "cell_type": "code",
   "execution_count": 10,
   "id": "de609250",
   "metadata": {
    "execution": {
     "iopub.execute_input": "2021-11-21T11:21:32.025475Z",
     "iopub.status.busy": "2021-11-21T11:21:32.024652Z",
     "iopub.status.idle": "2021-11-21T11:21:32.027459Z",
     "shell.execute_reply": "2021-11-21T11:21:32.026694Z",
     "shell.execute_reply.started": "2021-11-21T11:12:37.426967Z"
    },
    "papermill": {
     "duration": 0.044752,
     "end_time": "2021-11-21T11:21:32.027571",
     "exception": false,
     "start_time": "2021-11-21T11:21:31.982819",
     "status": "completed"
    },
    "tags": []
   },
   "outputs": [],
   "source": [
    "# date to month preprocessing (ex. 2019-09-06 -> 9)\n",
    "def date_to_month(date):\n",
    "    ar = date.split('-')\n",
    "    month = int(ar[1])\n",
    "    return month\n",
    "\n",
    "x_train['일시'] = x_train['일시'].apply(date_to_month)\n",
    "x_test['일시'] = x_test['일시'].apply(date_to_month)"
   ]
  },
  {
   "cell_type": "code",
   "execution_count": 11,
   "id": "13b3a0c2",
   "metadata": {
    "execution": {
     "iopub.execute_input": "2021-11-21T11:21:32.073407Z",
     "iopub.status.busy": "2021-11-21T11:21:32.072550Z",
     "iopub.status.idle": "2021-11-21T11:21:32.082582Z",
     "shell.execute_reply": "2021-11-21T11:21:32.081962Z",
     "shell.execute_reply.started": "2021-11-21T11:12:39.672918Z"
    },
    "papermill": {
     "duration": 0.034637,
     "end_time": "2021-11-21T11:21:32.082738",
     "exception": false,
     "start_time": "2021-11-21T11:21:32.048101",
     "status": "completed"
    },
    "tags": []
   },
   "outputs": [
    {
     "name": "stdout",
     "output_type": "stream",
     "text": [
      "<class 'pandas.core.frame.DataFrame'>\n",
      "RangeIndex: 12777 entries, 0 to 12776\n",
      "Data columns (total 13 columns):\n",
      " #   Column       Non-Null Count  Dtype  \n",
      "---  ------       --------------  -----  \n",
      " 0   지점           12777 non-null  int64  \n",
      " 1   일시           12777 non-null  int64  \n",
      " 2   평균 풍속(m/s)   12777 non-null  float64\n",
      " 3   평균기압(hPa)    12777 non-null  float64\n",
      " 4   평균 상대습도(%)   12777 non-null  float64\n",
      " 5   평균 기온(°C)    12777 non-null  float64\n",
      " 6   평균 수온(°C)    12777 non-null  float64\n",
      " 7   평균 최대 파고(m)  12777 non-null  float64\n",
      " 8   평균 유의 파고(m)  12777 non-null  float64\n",
      " 9   최고 최대 파고(m)  12777 non-null  float64\n",
      " 10  평균 파주기(sec)  12777 non-null  float64\n",
      " 11  최고 파주기(sec)  12777 non-null  float64\n",
      " 12  시도명          12777 non-null  int64  \n",
      "dtypes: float64(10), int64(3)\n",
      "memory usage: 1.3 MB\n"
     ]
    }
   ],
   "source": [
    "x_train.info()"
   ]
  },
  {
   "cell_type": "code",
   "execution_count": 12,
   "id": "9223c538",
   "metadata": {
    "execution": {
     "iopub.execute_input": "2021-11-21T11:21:32.139970Z",
     "iopub.status.busy": "2021-11-21T11:21:32.128492Z",
     "iopub.status.idle": "2021-11-21T11:21:32.143306Z",
     "shell.execute_reply": "2021-11-21T11:21:32.143683Z",
     "shell.execute_reply.started": "2021-11-21T11:12:40.811703Z"
    },
    "papermill": {
     "duration": 0.039349,
     "end_time": "2021-11-21T11:21:32.143813",
     "exception": false,
     "start_time": "2021-11-21T11:21:32.104464",
     "status": "completed"
    },
    "tags": []
   },
   "outputs": [
    {
     "data": {
      "text/html": [
       "<div>\n",
       "<style scoped>\n",
       "    .dataframe tbody tr th:only-of-type {\n",
       "        vertical-align: middle;\n",
       "    }\n",
       "\n",
       "    .dataframe tbody tr th {\n",
       "        vertical-align: top;\n",
       "    }\n",
       "\n",
       "    .dataframe thead th {\n",
       "        text-align: right;\n",
       "    }\n",
       "</style>\n",
       "<table border=\"1\" class=\"dataframe\">\n",
       "  <thead>\n",
       "    <tr style=\"text-align: right;\">\n",
       "      <th></th>\n",
       "      <th>지점</th>\n",
       "      <th>일시</th>\n",
       "      <th>평균 풍속(m/s)</th>\n",
       "      <th>평균기압(hPa)</th>\n",
       "      <th>평균 상대습도(%)</th>\n",
       "      <th>평균 기온(°C)</th>\n",
       "      <th>평균 수온(°C)</th>\n",
       "      <th>평균 최대 파고(m)</th>\n",
       "      <th>평균 유의 파고(m)</th>\n",
       "      <th>최고 최대 파고(m)</th>\n",
       "      <th>평균 파주기(sec)</th>\n",
       "      <th>최고 파주기(sec)</th>\n",
       "      <th>시도명</th>\n",
       "    </tr>\n",
       "  </thead>\n",
       "  <tbody>\n",
       "    <tr>\n",
       "      <th>0</th>\n",
       "      <td>22190</td>\n",
       "      <td>5</td>\n",
       "      <td>5.872207</td>\n",
       "      <td>1010.8</td>\n",
       "      <td>71.53116</td>\n",
       "      <td>16.76661</td>\n",
       "      <td>16.0</td>\n",
       "      <td>2.6</td>\n",
       "      <td>1.6</td>\n",
       "      <td>4.0</td>\n",
       "      <td>6.3</td>\n",
       "      <td>9.1</td>\n",
       "      <td>2</td>\n",
       "    </tr>\n",
       "    <tr>\n",
       "      <th>1</th>\n",
       "      <td>22189</td>\n",
       "      <td>3</td>\n",
       "      <td>7.600000</td>\n",
       "      <td>1028.3</td>\n",
       "      <td>59.00000</td>\n",
       "      <td>11.30000</td>\n",
       "      <td>15.3</td>\n",
       "      <td>2.2</td>\n",
       "      <td>1.4</td>\n",
       "      <td>3.3</td>\n",
       "      <td>5.5</td>\n",
       "      <td>9.1</td>\n",
       "      <td>5</td>\n",
       "    </tr>\n",
       "    <tr>\n",
       "      <th>2</th>\n",
       "      <td>22105</td>\n",
       "      <td>8</td>\n",
       "      <td>2.000000</td>\n",
       "      <td>1010.8</td>\n",
       "      <td>82.00000</td>\n",
       "      <td>27.40000</td>\n",
       "      <td>27.1</td>\n",
       "      <td>2.9</td>\n",
       "      <td>1.8</td>\n",
       "      <td>3.9</td>\n",
       "      <td>9.2</td>\n",
       "      <td>10.7</td>\n",
       "      <td>3</td>\n",
       "    </tr>\n",
       "    <tr>\n",
       "      <th>3</th>\n",
       "      <td>22105</td>\n",
       "      <td>2</td>\n",
       "      <td>10.800000</td>\n",
       "      <td>1018.3</td>\n",
       "      <td>43.00000</td>\n",
       "      <td>2.60000</td>\n",
       "      <td>13.3</td>\n",
       "      <td>4.6</td>\n",
       "      <td>2.8</td>\n",
       "      <td>6.0</td>\n",
       "      <td>7.9</td>\n",
       "      <td>10.7</td>\n",
       "      <td>7</td>\n",
       "    </tr>\n",
       "    <tr>\n",
       "      <th>4</th>\n",
       "      <td>22105</td>\n",
       "      <td>6</td>\n",
       "      <td>7.000000</td>\n",
       "      <td>1008.1</td>\n",
       "      <td>86.00000</td>\n",
       "      <td>21.00000</td>\n",
       "      <td>20.2</td>\n",
       "      <td>1.9</td>\n",
       "      <td>1.1</td>\n",
       "      <td>2.4</td>\n",
       "      <td>5.1</td>\n",
       "      <td>5.8</td>\n",
       "      <td>6</td>\n",
       "    </tr>\n",
       "  </tbody>\n",
       "</table>\n",
       "</div>"
      ],
      "text/plain": [
       "      지점  일시  평균 풍속(m/s)  평균기압(hPa)  평균 상대습도(%)  평균 기온(°C)  평균 수온(°C)  \\\n",
       "0  22190   5    5.872207     1010.8    71.53116   16.76661       16.0   \n",
       "1  22189   3    7.600000     1028.3    59.00000   11.30000       15.3   \n",
       "2  22105   8    2.000000     1010.8    82.00000   27.40000       27.1   \n",
       "3  22105   2   10.800000     1018.3    43.00000    2.60000       13.3   \n",
       "4  22105   6    7.000000     1008.1    86.00000   21.00000       20.2   \n",
       "\n",
       "   평균 최대 파고(m)  평균 유의 파고(m)  최고 최대 파고(m)  평균 파주기(sec)  최고 파주기(sec)  시도명  \n",
       "0          2.6          1.6          4.0          6.3          9.1    2  \n",
       "1          2.2          1.4          3.3          5.5          9.1    5  \n",
       "2          2.9          1.8          3.9          9.2         10.7    3  \n",
       "3          4.6          2.8          6.0          7.9         10.7    7  \n",
       "4          1.9          1.1          2.4          5.1          5.8    6  "
      ]
     },
     "execution_count": 12,
     "metadata": {},
     "output_type": "execute_result"
    }
   ],
   "source": [
    "x_train.head()"
   ]
  },
  {
   "cell_type": "code",
   "execution_count": 13,
   "id": "31de6e24",
   "metadata": {
    "execution": {
     "iopub.execute_input": "2021-11-21T11:21:32.189028Z",
     "iopub.status.busy": "2021-11-21T11:21:32.188209Z",
     "iopub.status.idle": "2021-11-21T11:21:32.204134Z",
     "shell.execute_reply": "2021-11-21T11:21:32.204589Z",
     "shell.execute_reply.started": "2021-11-21T11:12:48.297293Z"
    },
    "papermill": {
     "duration": 0.039585,
     "end_time": "2021-11-21T11:21:32.204711",
     "exception": false,
     "start_time": "2021-11-21T11:21:32.165126",
     "status": "completed"
    },
    "tags": []
   },
   "outputs": [
    {
     "data": {
      "text/html": [
       "<div>\n",
       "<style scoped>\n",
       "    .dataframe tbody tr th:only-of-type {\n",
       "        vertical-align: middle;\n",
       "    }\n",
       "\n",
       "    .dataframe tbody tr th {\n",
       "        vertical-align: top;\n",
       "    }\n",
       "\n",
       "    .dataframe thead th {\n",
       "        text-align: right;\n",
       "    }\n",
       "</style>\n",
       "<table border=\"1\" class=\"dataframe\">\n",
       "  <thead>\n",
       "    <tr style=\"text-align: right;\">\n",
       "      <th></th>\n",
       "      <th>지점</th>\n",
       "      <th>일시</th>\n",
       "      <th>평균 풍속(m/s)</th>\n",
       "      <th>평균기압(hPa)</th>\n",
       "      <th>평균 상대습도(%)</th>\n",
       "      <th>평균 기온(°C)</th>\n",
       "      <th>평균 수온(°C)</th>\n",
       "      <th>평균 최대 파고(m)</th>\n",
       "      <th>평균 유의 파고(m)</th>\n",
       "      <th>최고 최대 파고(m)</th>\n",
       "      <th>평균 파주기(sec)</th>\n",
       "      <th>최고 파주기(sec)</th>\n",
       "      <th>시도명</th>\n",
       "    </tr>\n",
       "  </thead>\n",
       "  <tbody>\n",
       "    <tr>\n",
       "      <th>0</th>\n",
       "      <td>22189</td>\n",
       "      <td>5</td>\n",
       "      <td>7.300000</td>\n",
       "      <td>1002.2</td>\n",
       "      <td>88.0</td>\n",
       "      <td>17.4</td>\n",
       "      <td>18.6</td>\n",
       "      <td>1.6</td>\n",
       "      <td>1.000000</td>\n",
       "      <td>2.5</td>\n",
       "      <td>4.6</td>\n",
       "      <td>5.8</td>\n",
       "      <td>2</td>\n",
       "    </tr>\n",
       "    <tr>\n",
       "      <th>1</th>\n",
       "      <td>22190</td>\n",
       "      <td>2</td>\n",
       "      <td>5.859536</td>\n",
       "      <td>1023.5</td>\n",
       "      <td>40.0</td>\n",
       "      <td>1.4</td>\n",
       "      <td>12.2</td>\n",
       "      <td>2.7</td>\n",
       "      <td>1.800000</td>\n",
       "      <td>4.2</td>\n",
       "      <td>7.4</td>\n",
       "      <td>9.1</td>\n",
       "      <td>3</td>\n",
       "    </tr>\n",
       "    <tr>\n",
       "      <th>2</th>\n",
       "      <td>22105</td>\n",
       "      <td>7</td>\n",
       "      <td>2.900000</td>\n",
       "      <td>1004.4</td>\n",
       "      <td>80.0</td>\n",
       "      <td>29.6</td>\n",
       "      <td>28.6</td>\n",
       "      <td>0.4</td>\n",
       "      <td>1.206909</td>\n",
       "      <td>0.7</td>\n",
       "      <td>3.0</td>\n",
       "      <td>4.0</td>\n",
       "      <td>5</td>\n",
       "    </tr>\n",
       "    <tr>\n",
       "      <th>3</th>\n",
       "      <td>22190</td>\n",
       "      <td>2</td>\n",
       "      <td>5.859536</td>\n",
       "      <td>1023.6</td>\n",
       "      <td>59.0</td>\n",
       "      <td>8.2</td>\n",
       "      <td>12.2</td>\n",
       "      <td>1.5</td>\n",
       "      <td>0.900000</td>\n",
       "      <td>2.2</td>\n",
       "      <td>8.1</td>\n",
       "      <td>9.1</td>\n",
       "      <td>5</td>\n",
       "    </tr>\n",
       "    <tr>\n",
       "      <th>4</th>\n",
       "      <td>22106</td>\n",
       "      <td>3</td>\n",
       "      <td>3.300000</td>\n",
       "      <td>1015.6</td>\n",
       "      <td>63.0</td>\n",
       "      <td>14.7</td>\n",
       "      <td>15.4</td>\n",
       "      <td>0.8</td>\n",
       "      <td>0.500000</td>\n",
       "      <td>1.1</td>\n",
       "      <td>7.2</td>\n",
       "      <td>8.0</td>\n",
       "      <td>2</td>\n",
       "    </tr>\n",
       "  </tbody>\n",
       "</table>\n",
       "</div>"
      ],
      "text/plain": [
       "      지점  일시  평균 풍속(m/s)  평균기압(hPa)  평균 상대습도(%)  평균 기온(°C)  평균 수온(°C)  \\\n",
       "0  22189   5    7.300000     1002.2        88.0       17.4       18.6   \n",
       "1  22190   2    5.859536     1023.5        40.0        1.4       12.2   \n",
       "2  22105   7    2.900000     1004.4        80.0       29.6       28.6   \n",
       "3  22190   2    5.859536     1023.6        59.0        8.2       12.2   \n",
       "4  22106   3    3.300000     1015.6        63.0       14.7       15.4   \n",
       "\n",
       "   평균 최대 파고(m)  평균 유의 파고(m)  최고 최대 파고(m)  평균 파주기(sec)  최고 파주기(sec)  시도명  \n",
       "0          1.6     1.000000          2.5          4.6          5.8    2  \n",
       "1          2.7     1.800000          4.2          7.4          9.1    3  \n",
       "2          0.4     1.206909          0.7          3.0          4.0    5  \n",
       "3          1.5     0.900000          2.2          8.1          9.1    5  \n",
       "4          0.8     0.500000          1.1          7.2          8.0    2  "
      ]
     },
     "execution_count": 13,
     "metadata": {},
     "output_type": "execute_result"
    }
   ],
   "source": [
    "x_test.head()"
   ]
  },
  {
   "cell_type": "code",
   "execution_count": 14,
   "id": "aa85ea19",
   "metadata": {
    "execution": {
     "iopub.execute_input": "2021-11-21T11:21:32.253492Z",
     "iopub.status.busy": "2021-11-21T11:21:32.252613Z",
     "iopub.status.idle": "2021-11-21T11:21:32.264399Z",
     "shell.execute_reply": "2021-11-21T11:21:32.263928Z",
     "shell.execute_reply.started": "2021-11-21T11:12:57.627151Z"
    },
    "papermill": {
     "duration": 0.038321,
     "end_time": "2021-11-21T11:21:32.264510",
     "exception": false,
     "start_time": "2021-11-21T11:21:32.226189",
     "status": "completed"
    },
    "tags": []
   },
   "outputs": [],
   "source": [
    "# data scaling\n",
    "from sklearn.preprocessing import StandardScaler\n",
    "\n",
    "sc = StandardScaler()\n",
    "\n",
    "x = sc.fit_transform(x_train)\n",
    "test = sc.fit_transform(x_test)"
   ]
  },
  {
   "cell_type": "code",
   "execution_count": 15,
   "id": "ab307ebe",
   "metadata": {
    "execution": {
     "iopub.execute_input": "2021-11-21T11:21:32.312765Z",
     "iopub.status.busy": "2021-11-21T11:21:32.309739Z",
     "iopub.status.idle": "2021-11-21T11:21:35.118666Z",
     "shell.execute_reply": "2021-11-21T11:21:35.118154Z",
     "shell.execute_reply.started": "2021-11-21T11:12:58.236369Z"
    },
    "papermill": {
     "duration": 2.832174,
     "end_time": "2021-11-21T11:21:35.118801",
     "exception": false,
     "start_time": "2021-11-21T11:21:32.286627",
     "status": "completed"
    },
    "tags": []
   },
   "outputs": [],
   "source": [
    "# to tensor\n",
    "x = torch.FloatTensor(np.array(x)).to(device)\n",
    "y = torch.FloatTensor(np.array(y_train)).to(device)\n",
    "test = torch.FloatTensor(np.array(test)).to(device)"
   ]
  },
  {
   "cell_type": "code",
   "execution_count": 16,
   "id": "6cc8dfdb",
   "metadata": {
    "execution": {
     "iopub.execute_input": "2021-11-21T11:21:35.168035Z",
     "iopub.status.busy": "2021-11-21T11:21:35.167245Z",
     "iopub.status.idle": "2021-11-21T11:21:35.169644Z",
     "shell.execute_reply": "2021-11-21T11:21:35.169238Z",
     "shell.execute_reply.started": "2021-11-21T11:13:01.939847Z"
    },
    "papermill": {
     "duration": 0.02791,
     "end_time": "2021-11-21T11:21:35.169761",
     "exception": false,
     "start_time": "2021-11-21T11:21:35.141851",
     "status": "completed"
    },
    "tags": []
   },
   "outputs": [],
   "source": [
    "# batch set\n",
    "from torch.utils.data import DataLoader, TensorDataset\n",
    "\n",
    "train_data = TensorDataset(x, y)\n",
    "dataloader = DataLoader(train_data, batch_size = 50, shuffle = True, drop_last = True)"
   ]
  },
  {
   "cell_type": "code",
   "execution_count": 17,
   "id": "a754305a",
   "metadata": {
    "execution": {
     "iopub.execute_input": "2021-11-21T11:21:35.216092Z",
     "iopub.status.busy": "2021-11-21T11:21:35.215308Z",
     "iopub.status.idle": "2021-11-21T11:21:35.217287Z",
     "shell.execute_reply": "2021-11-21T11:21:35.217661Z",
     "shell.execute_reply.started": "2021-11-21T11:13:06.038302Z"
    },
    "papermill": {
     "duration": 0.026611,
     "end_time": "2021-11-21T11:21:35.217793",
     "exception": false,
     "start_time": "2021-11-21T11:21:35.191182",
     "status": "completed"
    },
    "tags": []
   },
   "outputs": [],
   "source": [
    "# training parameters\n",
    "learning_rate = 0.01\n",
    "training_epochs = 50"
   ]
  },
  {
   "cell_type": "code",
   "execution_count": 18,
   "id": "8bea7e0e",
   "metadata": {
    "execution": {
     "iopub.execute_input": "2021-11-21T11:21:35.269574Z",
     "iopub.status.busy": "2021-11-21T11:21:35.268933Z",
     "iopub.status.idle": "2021-11-21T11:21:35.289081Z",
     "shell.execute_reply": "2021-11-21T11:21:35.288641Z",
     "shell.execute_reply.started": "2021-11-21T11:13:12.061108Z"
    },
    "papermill": {
     "duration": 0.050287,
     "end_time": "2021-11-21T11:21:35.289241",
     "exception": false,
     "start_time": "2021-11-21T11:21:35.238954",
     "status": "completed"
    },
    "tags": []
   },
   "outputs": [],
   "source": [
    "# seed value\n",
    "torch.manual_seed(1)\n",
    "\n",
    "# layer units\n",
    "linear1 = nn.Linear(x.shape[1], 1024)\n",
    "linear2 = nn.Linear(1024, 512)\n",
    "linear3 = nn.Linear(512, 512)\n",
    "linear4 = nn.Linear(512, 1024)\n",
    "linear5 = nn.Linear(1024, 1)\n",
    "\n",
    "# activation Function\n",
    "relu = nn.ReLU()"
   ]
  },
  {
   "cell_type": "code",
   "execution_count": 19,
   "id": "aa53372a",
   "metadata": {
    "execution": {
     "iopub.execute_input": "2021-11-21T11:21:35.335431Z",
     "iopub.status.busy": "2021-11-21T11:21:35.334720Z",
     "iopub.status.idle": "2021-11-21T11:21:35.394655Z",
     "shell.execute_reply": "2021-11-21T11:21:35.394240Z",
     "shell.execute_reply.started": "2021-11-21T11:13:18.613141Z"
    },
    "papermill": {
     "duration": 0.084542,
     "end_time": "2021-11-21T11:21:35.394784",
     "exception": false,
     "start_time": "2021-11-21T11:21:35.310242",
     "status": "completed"
    },
    "tags": []
   },
   "outputs": [
    {
     "data": {
      "text/plain": [
       "Parameter containing:\n",
       "tensor([[-0.0410,  0.0394,  0.0115,  ..., -0.0055, -0.0223, -0.0198]],\n",
       "       requires_grad=True)"
      ]
     },
     "execution_count": 19,
     "metadata": {},
     "output_type": "execute_result"
    }
   ],
   "source": [
    "# weight initializing\n",
    "nn.init.xavier_uniform_(linear1.weight)\n",
    "nn.init.xavier_uniform_(linear2.weight)\n",
    "nn.init.xavier_uniform_(linear3.weight)\n",
    "nn.init.xavier_uniform_(linear4.weight)\n",
    "nn.init.xavier_uniform_(linear5.weight)"
   ]
  },
  {
   "cell_type": "code",
   "execution_count": 20,
   "id": "7b0b33db",
   "metadata": {
    "execution": {
     "iopub.execute_input": "2021-11-21T11:21:35.443000Z",
     "iopub.status.busy": "2021-11-21T11:21:35.442481Z",
     "iopub.status.idle": "2021-11-21T11:21:35.450020Z",
     "shell.execute_reply": "2021-11-21T11:21:35.449583Z",
     "shell.execute_reply.started": "2021-11-21T11:13:25.511644Z"
    },
    "papermill": {
     "duration": 0.033543,
     "end_time": "2021-11-21T11:21:35.450151",
     "exception": false,
     "start_time": "2021-11-21T11:21:35.416608",
     "status": "completed"
    },
    "tags": []
   },
   "outputs": [],
   "source": [
    "# layers to model\n",
    "model = nn.Sequential(linear1, relu,\n",
    "                      linear2, relu,\n",
    "                      linear3, relu,\n",
    "                      linear4, relu,\n",
    "                      linear5).to(device)\n",
    "\n",
    "# loss function\n",
    "loss = nn.MSELoss().to(device)\n",
    "\n",
    "# optimizer\n",
    "optimizer = optim.Adam(model.parameters(), lr = learning_rate)"
   ]
  },
  {
   "cell_type": "code",
   "execution_count": 21,
   "id": "7a53fcf0",
   "metadata": {
    "execution": {
     "iopub.execute_input": "2021-11-21T11:21:35.499587Z",
     "iopub.status.busy": "2021-11-21T11:21:35.498868Z",
     "iopub.status.idle": "2021-11-21T11:22:08.523150Z",
     "shell.execute_reply": "2021-11-21T11:22:08.522330Z",
     "shell.execute_reply.started": "2021-11-21T11:13:26.804581Z"
    },
    "papermill": {
     "duration": 33.051698,
     "end_time": "2021-11-21T11:22:08.523285",
     "exception": false,
     "start_time": "2021-11-21T11:21:35.471587",
     "status": "completed"
    },
    "tags": []
   },
   "outputs": [
    {
     "name": "stdout",
     "output_type": "stream",
     "text": [
      "0 29652462.0\n",
      "5 20069428.0\n",
      "10 19331302.0\n",
      "15 18992672.0\n",
      "20 18380972.0\n",
      "25 18341214.0\n",
      "30 17915396.0\n",
      "35 17821138.0\n",
      "40 17840238.0\n",
      "45 17763670.0\n"
     ]
    }
   ],
   "source": [
    "# model training\n",
    "\n",
    "total_batch = len(dataloader)\n",
    "\n",
    "\n",
    "for epoch in range(training_epochs):\n",
    "    avg_cost = 0\n",
    "    \n",
    "    for X, Y in dataloader:\n",
    "        X = X.to(device)\n",
    "        Y = Y.to(device)\n",
    "        \n",
    "        optimizer.zero_grad()\n",
    "        hypothesis = model(X)\n",
    "        cost = loss(hypothesis, Y)\n",
    "        cost.backward()\n",
    "        optimizer.step()\n",
    "        \n",
    "        avg_cost += cost/total_batch\n",
    "    \n",
    "    if epoch % (5) == 0:\n",
    "        print(epoch, avg_cost.item())"
   ]
  },
  {
   "cell_type": "code",
   "execution_count": 22,
   "id": "b2d849be",
   "metadata": {
    "execution": {
     "iopub.execute_input": "2021-11-21T11:22:08.576914Z",
     "iopub.status.busy": "2021-11-21T11:22:08.576149Z",
     "iopub.status.idle": "2021-11-21T11:22:08.582210Z",
     "shell.execute_reply": "2021-11-21T11:22:08.581770Z",
     "shell.execute_reply.started": "2021-11-21T11:14:07.027260Z"
    },
    "papermill": {
     "duration": 0.034724,
     "end_time": "2021-11-21T11:22:08.582327",
     "exception": false,
     "start_time": "2021-11-21T11:22:08.547603",
     "status": "completed"
    },
    "tags": []
   },
   "outputs": [],
   "source": [
    "# prediction\n",
    "\n",
    "with torch.no_grad():\n",
    "    hypothesis = model(test)\n",
    "    pred = hypothesis.cpu()\n",
    "    result = pred.detach().numpy().astype(int)\n",
    "\n",
    "# result"
   ]
  },
  {
   "cell_type": "code",
   "execution_count": 23,
   "id": "f182ce1c",
   "metadata": {
    "execution": {
     "iopub.execute_input": "2021-11-21T11:22:08.638027Z",
     "iopub.status.busy": "2021-11-21T11:22:08.637239Z",
     "iopub.status.idle": "2021-11-21T11:22:08.642863Z",
     "shell.execute_reply": "2021-11-21T11:22:08.643304Z",
     "shell.execute_reply.started": "2021-11-21T11:14:07.710274Z"
    },
    "papermill": {
     "duration": 0.03694,
     "end_time": "2021-11-21T11:22:08.643431",
     "exception": false,
     "start_time": "2021-11-21T11:22:08.606491",
     "status": "completed"
    },
    "tags": []
   },
   "outputs": [
    {
     "data": {
      "text/html": [
       "<div>\n",
       "<style scoped>\n",
       "    .dataframe tbody tr th:only-of-type {\n",
       "        vertical-align: middle;\n",
       "    }\n",
       "\n",
       "    .dataframe tbody tr th {\n",
       "        vertical-align: top;\n",
       "    }\n",
       "\n",
       "    .dataframe thead th {\n",
       "        text-align: right;\n",
       "    }\n",
       "</style>\n",
       "<table border=\"1\" class=\"dataframe\">\n",
       "  <thead>\n",
       "    <tr style=\"text-align: right;\">\n",
       "      <th></th>\n",
       "      <th>id</th>\n",
       "      <th>price</th>\n",
       "    </tr>\n",
       "  </thead>\n",
       "  <tbody>\n",
       "    <tr>\n",
       "      <th>0</th>\n",
       "      <td>10731</td>\n",
       "      <td>13132</td>\n",
       "    </tr>\n",
       "    <tr>\n",
       "      <th>1</th>\n",
       "      <td>2608</td>\n",
       "      <td>11429</td>\n",
       "    </tr>\n",
       "    <tr>\n",
       "      <th>2</th>\n",
       "      <td>14585</td>\n",
       "      <td>9909</td>\n",
       "    </tr>\n",
       "    <tr>\n",
       "      <th>3</th>\n",
       "      <td>4254</td>\n",
       "      <td>9695</td>\n",
       "    </tr>\n",
       "    <tr>\n",
       "      <th>4</th>\n",
       "      <td>6925</td>\n",
       "      <td>13531</td>\n",
       "    </tr>\n",
       "    <tr>\n",
       "      <th>...</th>\n",
       "      <td>...</td>\n",
       "      <td>...</td>\n",
       "    </tr>\n",
       "    <tr>\n",
       "      <th>5472</th>\n",
       "      <td>13176</td>\n",
       "      <td>10874</td>\n",
       "    </tr>\n",
       "    <tr>\n",
       "      <th>5473</th>\n",
       "      <td>16857</td>\n",
       "      <td>8849</td>\n",
       "    </tr>\n",
       "    <tr>\n",
       "      <th>5474</th>\n",
       "      <td>14220</td>\n",
       "      <td>6192</td>\n",
       "    </tr>\n",
       "    <tr>\n",
       "      <th>5475</th>\n",
       "      <td>6759</td>\n",
       "      <td>10335</td>\n",
       "    </tr>\n",
       "    <tr>\n",
       "      <th>5476</th>\n",
       "      <td>898</td>\n",
       "      <td>10412</td>\n",
       "    </tr>\n",
       "  </tbody>\n",
       "</table>\n",
       "<p>5477 rows × 2 columns</p>\n",
       "</div>"
      ],
      "text/plain": [
       "         id  price\n",
       "0     10731  13132\n",
       "1      2608  11429\n",
       "2     14585   9909\n",
       "3      4254   9695\n",
       "4      6925  13531\n",
       "...     ...    ...\n",
       "5472  13176  10874\n",
       "5473  16857   8849\n",
       "5474  14220   6192\n",
       "5475   6759  10335\n",
       "5476    898  10412\n",
       "\n",
       "[5477 rows x 2 columns]"
      ]
     },
     "execution_count": 23,
     "metadata": {},
     "output_type": "execute_result"
    }
   ],
   "source": [
    "submit['price'] = result\n",
    "submit"
   ]
  },
  {
   "cell_type": "code",
   "execution_count": 24,
   "id": "a4d438ae",
   "metadata": {
    "execution": {
     "iopub.execute_input": "2021-11-21T11:22:08.695599Z",
     "iopub.status.busy": "2021-11-21T11:22:08.695072Z",
     "iopub.status.idle": "2021-11-21T11:22:08.708847Z",
     "shell.execute_reply": "2021-11-21T11:22:08.708384Z",
     "shell.execute_reply.started": "2021-11-21T11:14:13.975997Z"
    },
    "papermill": {
     "duration": 0.041153,
     "end_time": "2021-11-21T11:22:08.708948",
     "exception": false,
     "start_time": "2021-11-21T11:22:08.667795",
     "status": "completed"
    },
    "tags": []
   },
   "outputs": [],
   "source": [
    "submit.to_csv(\"defence.csv\", index=False)"
   ]
  },
  {
   "cell_type": "code",
   "execution_count": null,
   "id": "3373aff4",
   "metadata": {
    "papermill": {
     "duration": 0.024069,
     "end_time": "2021-11-21T11:22:08.757531",
     "exception": false,
     "start_time": "2021-11-21T11:22:08.733462",
     "status": "completed"
    },
    "tags": []
   },
   "outputs": [],
   "source": []
  },
  {
   "cell_type": "code",
   "execution_count": null,
   "id": "05b3c955",
   "metadata": {
    "papermill": {
     "duration": 0.025401,
     "end_time": "2021-11-21T11:22:08.807986",
     "exception": false,
     "start_time": "2021-11-21T11:22:08.782585",
     "status": "completed"
    },
    "tags": []
   },
   "outputs": [],
   "source": []
  }
 ],
 "metadata": {
  "kernelspec": {
   "display_name": "Python 3",
   "language": "python",
   "name": "python3"
  },
  "language_info": {
   "codemirror_mode": {
    "name": "ipython",
    "version": 3
   },
   "file_extension": ".py",
   "mimetype": "text/x-python",
   "name": "python",
   "nbconvert_exporter": "python",
   "pygments_lexer": "ipython3",
   "version": "3.7.10"
  },
  "papermill": {
   "default_parameters": {},
   "duration": 48.23916,
   "end_time": "2021-11-21T11:22:09.841905",
   "environment_variables": {},
   "exception": null,
   "input_path": "__notebook__.ipynb",
   "output_path": "__notebook__.ipynb",
   "parameters": {},
   "start_time": "2021-11-21T11:21:21.602745",
   "version": "2.3.3"
  }
 },
 "nbformat": 4,
 "nbformat_minor": 5
}
